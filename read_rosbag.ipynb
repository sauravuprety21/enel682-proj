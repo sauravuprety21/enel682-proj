{
 "cells": [
  {
   "cell_type": "code",
   "execution_count": 1,
   "metadata": {},
   "outputs": [
    {
     "name": "stderr",
     "output_type": "stream",
     "text": [
      "/tmp/ipykernel_14692/218432866.py:4: DeprecationWarning: \n",
      "Pyarrow will become a required dependency of pandas in the next major release of pandas (pandas 3.0),\n",
      "(to allow more performant data types, such as the Arrow string type, and better interoperability with other libraries)\n",
      "but was not found to be installed on your system.\n",
      "If this would cause problems for you,\n",
      "please provide us feedback at https://github.com/pandas-dev/pandas/issues/54466\n",
      "        \n",
      "  import pandas as pd\n"
     ]
    }
   ],
   "source": [
    "import os\n",
    "from pathlib import Path\n",
    "\n",
    "import pandas as pd\n",
    "import numpy as np\n",
    "\n",
    "import matplotlib.pyplot as plt\n",
    "\n",
    "from rosbags.rosbag1 import Reader\n",
    "\n",
    "from rosbags.rosbag1 import Writer\n",
    "\n",
    "from rosbags.typesys import Stores, get_types_from_msg,  get_typestore"
   ]
  },
  {
   "cell_type": "code",
   "execution_count": 2,
   "metadata": {},
   "outputs": [],
   "source": [
    "path_bagfiles = '/ssd/bag_files/'\n",
    "path_bag = os.path.join(path_bagfiles, '20190331WH.bag')\n",
    "path_msgs = r'msgs'"
   ]
  },
  {
   "cell_type": "code",
   "execution_count": 3,
   "metadata": {},
   "outputs": [
    {
     "name": "stdout",
     "output_type": "stream",
     "text": [
      "/imu/data sensor_msgs/msg/Imu\n",
      "/navsat/origin geometry_msgs/msg/Pose\n",
      "/novatel_data/inscov novatel_msgs/msg/INSCOV\n",
      "/velodyne_points sensor_msgs/msg/PointCloud2\n",
      "/camera/image_color sensor_msgs/msg/Image\n",
      "/novatel_data/inspvax novatel_msgs/msg/INSPVAX\n",
      "/navsat/odom nav_msgs/msg/Odometry\n",
      "/navsat/fix sensor_msgs/msg/NavSatFix\n",
      "/novatel_data/bestpos novatel_msgs/msg/BESTPOS\n",
      "/GNSS_ nlosExclusion/msg/GNSS_Raw_Array\n",
      "/novatel_data/corrimudata novatel_msgs/msg/CORRIMUDATA\n"
     ]
    }
   ],
   "source": [
    "# create reader instance and open for reading\n",
    "with Reader(path_bag) as reader:\n",
    "    # topic and msgtype information is available on .connections list\n",
    "    for connection in reader.connections:\n",
    "        print(connection.topic, connection.msgtype)"
   ]
  },
  {
   "cell_type": "code",
   "execution_count": 7,
   "metadata": {},
   "outputs": [],
   "source": [
    "msg_register_map = {\n",
    "                    'novatel_msgs/CommonHeader': 'novatel_header.msg',\n",
    "                    'novatel_msgs/msg/INSPVAX': 'inspvax.msg' ,\n",
    "                    }\n",
    "\n",
    "typestore_ros = get_typestore(Stores.ROS1_NOETIC)\n",
    "\n",
    "for topic, msg_def in msg_register_map.items():\n",
    "    _msg_txt = Path(os.path.join(path_msgs, msg_def)).read_text()\n",
    "    typestore_ros.register(get_types_from_msg(_msg_txt, topic))"
   ]
  },
  {
   "cell_type": "code",
   "execution_count": 17,
   "metadata": {},
   "outputs": [
    {
     "name": "stdout",
     "output_type": "stream",
     "text": [
      "1556244991.9084287 sensor_msgs__msg__Imu(header=std_msgs__msg__Header(seq=126143, stamp=builtin_interfaces__msg__Time(sec=1554023987, nanosec=31778097, __msgtype__='builtin_interfaces/msg/Time'), frame_id='/imu', __msgtype__='std_msgs/msg/Header'), orientation=geometry_msgs__msg__Quaternion(x=-0.011451647616922855, y=-0.004325337242335081, z=-0.912064790725708, w=0.4098632037639618, __msgtype__='geometry_msgs/msg/Quaternion'), orientation_covariance=array([0.01745, 0.     , 0.     , 0.     , 0.01745, 0.     , 0.     ,\n",
      "       0.     , 0.15708]), angular_velocity=geometry_msgs__msg__Vector3(x=-0.009423699229955673, y=0.009598053060472012, z=-0.007060869596898556, __msgtype__='geometry_msgs/msg/Vector3'), angular_velocity_covariance=array([0.0004, 0.    , 0.    , 0.    , 0.0004, 0.    , 0.    , 0.    ,\n",
      "       0.0004]), linear_acceleration=geometry_msgs__msg__Vector3(x=-0.00018585583893582225, y=-0.0755721852183342, z=9.926544189453125, __msgtype__='geometry_msgs/msg/Vector3'), linear_acceleration_covariance=array([0.0004, 0.    , 0.    , 0.    , 0.0004, 0.    , 0.    , 0.    ,\n",
      "       0.0004]), __msgtype__='sensor_msgs/msg/Imu')\n",
      "1556244991.9084623 sensor_msgs__msg__Imu(header=std_msgs__msg__Header(seq=126144, stamp=builtin_interfaces__msg__Time(sec=1554023987, nanosec=41805028, __msgtype__='builtin_interfaces/msg/Time'), frame_id='/imu', __msgtype__='std_msgs/msg/Header'), orientation=geometry_msgs__msg__Quaternion(x=-0.011456814594566822, y=-0.004271519370377064, z=-0.9120631217956543, w=0.4098677635192871, __msgtype__='geometry_msgs/msg/Quaternion'), orientation_covariance=array([0.01745, 0.     , 0.     , 0.     , 0.01745, 0.     , 0.     ,\n",
      "       0.     , 0.15708]), angular_velocity=geometry_msgs__msg__Vector3(x=-0.013272848911583424, y=-0.0014451367314904928, z=-0.003336026333272457, __msgtype__='geometry_msgs/msg/Vector3'), angular_velocity_covariance=array([0.0004, 0.    , 0.    , 0.    , 0.0004, 0.    , 0.    , 0.    ,\n",
      "       0.0004]), linear_acceleration=geometry_msgs__msg__Vector3(x=0.2423894852399826, y=-0.13345354795455933, z=9.471781730651855, __msgtype__='geometry_msgs/msg/Vector3'), linear_acceleration_covariance=array([0.0004, 0.    , 0.    , 0.    , 0.0004, 0.    , 0.    , 0.    ,\n",
      "       0.0004]), __msgtype__='sensor_msgs/msg/Imu')\n",
      "1556244991.915502 sensor_msgs__msg__Imu(header=std_msgs__msg__Header(seq=126145, stamp=builtin_interfaces__msg__Time(sec=1554023987, nanosec=51785945, __msgtype__='builtin_interfaces/msg/Time'), frame_id='/imu', __msgtype__='std_msgs/msg/Header'), orientation=geometry_msgs__msg__Quaternion(x=-0.011486390605568886, y=-0.004247960634529591, z=-0.9120666980743408, w=0.4098590612411499, __msgtype__='geometry_msgs/msg/Quaternion'), orientation_covariance=array([0.01745, 0.     , 0.     , 0.     , 0.01745, 0.     , 0.     ,\n",
      "       0.     , 0.15708]), angular_velocity=geometry_msgs__msg__Vector3(x=-0.006775235757231712, y=0.0015131471445783973, z=0.002580475527793169, __msgtype__='geometry_msgs/msg/Vector3'), angular_velocity_covariance=array([0.0004, 0.    , 0.    , 0.    , 0.0004, 0.    , 0.    , 0.    ,\n",
      "       0.0004]), linear_acceleration=geometry_msgs__msg__Vector3(x=0.4181689918041229, y=0.12340062856674194, z=9.704272270202637, __msgtype__='geometry_msgs/msg/Vector3'), linear_acceleration_covariance=array([0.0004, 0.    , 0.    , 0.    , 0.0004, 0.    , 0.    , 0.    ,\n",
      "       0.0004]), __msgtype__='sensor_msgs/msg/Imu')\n"
     ]
    }
   ],
   "source": [
    "with Reader(path_bag) as reader:\n",
    "    i = 0\n",
    "    for conn_r, timestamp, rawdata in reader.messages():\n",
    "        if conn_r.topic == '/imu/data':\n",
    "            msg = typestore_ros.deserialize_ros1(rawdata, conn_r.msgtype)\n",
    "            print(timestamp*1e-9, msg)\n",
    "            i+=1 \n",
    "            if i > 2: break"
   ]
  },
  {
   "cell_type": "code",
   "execution_count": 18,
   "metadata": {},
   "outputs": [
    {
     "name": "stdout",
     "output_type": "stream",
     "text": [
      "1556244992.0832784 novatel_msgs__msg__INSPVAX(header=novatel_msgs__msg__CommonHeader(id=1465, msg_type=0, port_addr=64, length=126, sequence=0, idle_time=133, time_status=180, gps_week=2047, gps_week_seconds=33604000, receiver_status=2048, reserved=19988, software_version=13754, RECEIVER_STATUS_ERROR=1, RECEIVER_STATUS_TEMPERATURE_WARNING=2, RECEIVER_STATUS_VOLTAGE_SUPPLY_WARNING=4, RECEIVER_STATUS_ANTENNA_UNPOWERED=8, RECEIVER_STATUS_LNA_FAILURE=16, RECEIVER_STATUS_ANTENNA_OPEN=32, RECEIVER_STATUS_ANTENNA_SHORTED=64, RECEIVER_STATUS_CPU_OVERLOADED=128, RECEIVER_STATUS_COM1_BUFFER_OVERRUN=256, RECEIVER_STATUS_COM2_BUFFER_OVERRUN=512, RECEIVER_STATUS_COM3_BUFFER_OVERRUN=1024, RECEIVER_STATUS_LINK_OVERLOAD=2048, RECEIVER_STATUS_AUX_TRANSMIT_OVERRUN=8192, RECEIVER_STATUS_AGC_OUT_OF_RANGE=16384, RECEIVER_STATUS_INS_RESET=65536, RECEIVER_STATUS_ALMANAC_INVALID=262144, RECEIVER_STATUS_POSITION_SOLUTION_INVALID=524288, RECEIVER_STATUS_POSITION_NOT_FIXED=1048576, RECEIVER_STATUS_CLOCK_STEERING_DISABLED=2097152, RECEIVER_STATUS_CLOCK_MODEL_INVALID=4194304, RECEIVER_STATUS_EXTERNAL_OSCILLATOR_LOCKED=8388608, RECEIVER_STATUS_SOFTWARE_RESOURCE_WARNING=16777216, RECEIVER_STATUS_AUXILIARY3_EVENT=536870912, RECEIVER_STATUS_AUXILIARY2_EVENT=1073741824, RECEIVER_STATUS_AUXILIARY1_EVENT=2147483648, __msgtype__='novatel_msgs/msg/CommonHeader'), ins_status=3, position_type=54, latitude=22.30509767319705, longitude=114.18944098165619, altitude=5.66901206318289, undulation=-2.0999999046325684, north_velocity=0.10966352530159967, east_velocity=-0.019538356372167894, up_velocity=0.00995976036247722, roll=-1.4762279832504253, pitch=0.4590026375530876, azimuth=121.4508164483072, latitude_std=0.7149948477745056, longitude_std=0.4106374680995941, altitude_std=0.8305950164794922, north_velocity_std=0.023433741182088852, east_velocity_std=0.023613296449184418, up_velocity_std=0.02994983270764351, roll_std=0.00888064131140709, pitch_std=0.011481370776891708, azimuth_std=0.07656195759773254, extended_status=450, seconds_since_update=0, INS_STATUS_INACTIVE=0, INS_STATUS_ALIGNING=1, INS_STATUS_HIGH_VARIANCE=2, INS_STATUS_SOLUTION_GOOD=3, INS_STATUS_SOLUTION_FREE=6, INS_STATUS_ALIGNMENT_COMPLETE=7, INS_STATUS_DETERMINING_ORIENTATION=8, INS_STATUS_WAITING_INITIALPOS=9, POSITION_TYPE_NONE=0, POSITION_TYPE_SBAS=52, POSITION_TYPE_PSEUDORANGE_SINGLE_POINT=53, POSITION_TYPE_PSEUDORANGE_DIFFERENTIAL=54, POSITION_TYPE_RTK_FLOAT=55, POSITION_TYPE_RTK_FIXED=56, POSITION_TYPE_OMNISTAR=57, POSITION_TYPE_OMNISTAR_HP=58, POSITION_TYPE_OMNISTAR_XP=59, POSITION_TYPE_PPP_CONVERGING=73, POSITION_TYPE_PPP=74, EXTENDED_STATUS_POSITION_UPDATE_APPLIED=1, EXTENDED_STATUS_PHASE_UPDATE_APPLIED=2, EXTENDED_STATUS_ZUPT_APPLIED=4, EXTENDED_STATUS_WHEEL_SENSOR_APPLIED=8, EXTENDED_STATUS_HEADING_UPDATE_APPLIED=16, EXTENDED_STATUS_INS_SOLUTION_CONVERGED=64, __msgtype__='novatel_msgs/msg/INSPVAX')\n",
      "1556244993.0835955 novatel_msgs__msg__INSPVAX(header=novatel_msgs__msg__CommonHeader(id=1465, msg_type=0, port_addr=64, length=126, sequence=0, idle_time=134, time_status=180, gps_week=2047, gps_week_seconds=33605000, receiver_status=2048, reserved=19988, software_version=13754, RECEIVER_STATUS_ERROR=1, RECEIVER_STATUS_TEMPERATURE_WARNING=2, RECEIVER_STATUS_VOLTAGE_SUPPLY_WARNING=4, RECEIVER_STATUS_ANTENNA_UNPOWERED=8, RECEIVER_STATUS_LNA_FAILURE=16, RECEIVER_STATUS_ANTENNA_OPEN=32, RECEIVER_STATUS_ANTENNA_SHORTED=64, RECEIVER_STATUS_CPU_OVERLOADED=128, RECEIVER_STATUS_COM1_BUFFER_OVERRUN=256, RECEIVER_STATUS_COM2_BUFFER_OVERRUN=512, RECEIVER_STATUS_COM3_BUFFER_OVERRUN=1024, RECEIVER_STATUS_LINK_OVERLOAD=2048, RECEIVER_STATUS_AUX_TRANSMIT_OVERRUN=8192, RECEIVER_STATUS_AGC_OUT_OF_RANGE=16384, RECEIVER_STATUS_INS_RESET=65536, RECEIVER_STATUS_ALMANAC_INVALID=262144, RECEIVER_STATUS_POSITION_SOLUTION_INVALID=524288, RECEIVER_STATUS_POSITION_NOT_FIXED=1048576, RECEIVER_STATUS_CLOCK_STEERING_DISABLED=2097152, RECEIVER_STATUS_CLOCK_MODEL_INVALID=4194304, RECEIVER_STATUS_EXTERNAL_OSCILLATOR_LOCKED=8388608, RECEIVER_STATUS_SOFTWARE_RESOURCE_WARNING=16777216, RECEIVER_STATUS_AUXILIARY3_EVENT=536870912, RECEIVER_STATUS_AUXILIARY2_EVENT=1073741824, RECEIVER_STATUS_AUXILIARY1_EVENT=2147483648, __msgtype__='novatel_msgs/msg/CommonHeader'), ins_status=3, position_type=54, latitude=22.305100766854693, longitude=114.18944147222608, altitude=5.700238475576043, undulation=-2.0999999046325684, north_velocity=0.11086077871149344, east_velocity=-0.028548297307622435, up_velocity=0.00672220789051324, roll=-1.4802435370673335, pitch=0.461958678995984, azimuth=121.44926131017272, latitude_std=0.7019103169441223, longitude_std=0.40187615156173706, altitude_std=0.8216708898544312, north_velocity_std=0.023672234266996384, east_velocity_std=0.023863082751631737, up_velocity_std=0.03072204813361168, roll_std=0.008795852772891521, pitch_std=0.011670601554214954, azimuth_std=0.07644830644130707, extended_status=450, seconds_since_update=0, INS_STATUS_INACTIVE=0, INS_STATUS_ALIGNING=1, INS_STATUS_HIGH_VARIANCE=2, INS_STATUS_SOLUTION_GOOD=3, INS_STATUS_SOLUTION_FREE=6, INS_STATUS_ALIGNMENT_COMPLETE=7, INS_STATUS_DETERMINING_ORIENTATION=8, INS_STATUS_WAITING_INITIALPOS=9, POSITION_TYPE_NONE=0, POSITION_TYPE_SBAS=52, POSITION_TYPE_PSEUDORANGE_SINGLE_POINT=53, POSITION_TYPE_PSEUDORANGE_DIFFERENTIAL=54, POSITION_TYPE_RTK_FLOAT=55, POSITION_TYPE_RTK_FIXED=56, POSITION_TYPE_OMNISTAR=57, POSITION_TYPE_OMNISTAR_HP=58, POSITION_TYPE_OMNISTAR_XP=59, POSITION_TYPE_PPP_CONVERGING=73, POSITION_TYPE_PPP=74, EXTENDED_STATUS_POSITION_UPDATE_APPLIED=1, EXTENDED_STATUS_PHASE_UPDATE_APPLIED=2, EXTENDED_STATUS_ZUPT_APPLIED=4, EXTENDED_STATUS_WHEEL_SENSOR_APPLIED=8, EXTENDED_STATUS_HEADING_UPDATE_APPLIED=16, EXTENDED_STATUS_INS_SOLUTION_CONVERGED=64, __msgtype__='novatel_msgs/msg/INSPVAX')\n",
      "1556244994.0831993 novatel_msgs__msg__INSPVAX(header=novatel_msgs__msg__CommonHeader(id=1465, msg_type=0, port_addr=64, length=126, sequence=0, idle_time=134, time_status=180, gps_week=2047, gps_week_seconds=33606000, receiver_status=2048, reserved=19988, software_version=13754, RECEIVER_STATUS_ERROR=1, RECEIVER_STATUS_TEMPERATURE_WARNING=2, RECEIVER_STATUS_VOLTAGE_SUPPLY_WARNING=4, RECEIVER_STATUS_ANTENNA_UNPOWERED=8, RECEIVER_STATUS_LNA_FAILURE=16, RECEIVER_STATUS_ANTENNA_OPEN=32, RECEIVER_STATUS_ANTENNA_SHORTED=64, RECEIVER_STATUS_CPU_OVERLOADED=128, RECEIVER_STATUS_COM1_BUFFER_OVERRUN=256, RECEIVER_STATUS_COM2_BUFFER_OVERRUN=512, RECEIVER_STATUS_COM3_BUFFER_OVERRUN=1024, RECEIVER_STATUS_LINK_OVERLOAD=2048, RECEIVER_STATUS_AUX_TRANSMIT_OVERRUN=8192, RECEIVER_STATUS_AGC_OUT_OF_RANGE=16384, RECEIVER_STATUS_INS_RESET=65536, RECEIVER_STATUS_ALMANAC_INVALID=262144, RECEIVER_STATUS_POSITION_SOLUTION_INVALID=524288, RECEIVER_STATUS_POSITION_NOT_FIXED=1048576, RECEIVER_STATUS_CLOCK_STEERING_DISABLED=2097152, RECEIVER_STATUS_CLOCK_MODEL_INVALID=4194304, RECEIVER_STATUS_EXTERNAL_OSCILLATOR_LOCKED=8388608, RECEIVER_STATUS_SOFTWARE_RESOURCE_WARNING=16777216, RECEIVER_STATUS_AUXILIARY3_EVENT=536870912, RECEIVER_STATUS_AUXILIARY2_EVENT=1073741824, RECEIVER_STATUS_AUXILIARY1_EVENT=2147483648, __msgtype__='novatel_msgs/msg/CommonHeader'), ins_status=3, position_type=54, latitude=22.305101538744882, longitude=114.18944188939102, altitude=5.710292365401983, undulation=-2.0999999046325684, north_velocity=0.12103570604766872, east_velocity=-0.019204699834243482, up_velocity=0.013710014404770793, roll=-1.4754754277061202, pitch=0.45848371413507316, azimuth=121.44660960574033, latitude_std=0.709696352481842, longitude_std=0.4037930965423584, altitude_std=0.8380420207977295, north_velocity_std=0.024069976061582565, east_velocity_std=0.023721827194094658, up_velocity_std=0.030942343175411224, roll_std=0.00874520093202591, pitch_std=0.011642688885331154, azimuth_std=0.07605632394552231, extended_status=195, seconds_since_update=0, INS_STATUS_INACTIVE=0, INS_STATUS_ALIGNING=1, INS_STATUS_HIGH_VARIANCE=2, INS_STATUS_SOLUTION_GOOD=3, INS_STATUS_SOLUTION_FREE=6, INS_STATUS_ALIGNMENT_COMPLETE=7, INS_STATUS_DETERMINING_ORIENTATION=8, INS_STATUS_WAITING_INITIALPOS=9, POSITION_TYPE_NONE=0, POSITION_TYPE_SBAS=52, POSITION_TYPE_PSEUDORANGE_SINGLE_POINT=53, POSITION_TYPE_PSEUDORANGE_DIFFERENTIAL=54, POSITION_TYPE_RTK_FLOAT=55, POSITION_TYPE_RTK_FIXED=56, POSITION_TYPE_OMNISTAR=57, POSITION_TYPE_OMNISTAR_HP=58, POSITION_TYPE_OMNISTAR_XP=59, POSITION_TYPE_PPP_CONVERGING=73, POSITION_TYPE_PPP=74, EXTENDED_STATUS_POSITION_UPDATE_APPLIED=1, EXTENDED_STATUS_PHASE_UPDATE_APPLIED=2, EXTENDED_STATUS_ZUPT_APPLIED=4, EXTENDED_STATUS_WHEEL_SENSOR_APPLIED=8, EXTENDED_STATUS_HEADING_UPDATE_APPLIED=16, EXTENDED_STATUS_INS_SOLUTION_CONVERGED=64, __msgtype__='novatel_msgs/msg/INSPVAX')\n"
     ]
    }
   ],
   "source": [
    "with Reader(path_bag) as reader:\n",
    "    i = 0\n",
    "    for conn_r, timestamp, rawdata in reader.messages():\n",
    "        if conn_r.topic == '/novatel_data/inspvax':\n",
    "            msg = typestore_ros.deserialize_ros1(rawdata, conn_r.msgtype)\n",
    "            print(timestamp*1e-9, msg)\n",
    "            i+=1 \n",
    "            if i > 2: break"
   ]
  }
 ],
 "metadata": {
  "kernelspec": {
   "display_name": "proj682_env",
   "language": "python",
   "name": "python3"
  },
  "language_info": {
   "codemirror_mode": {
    "name": "ipython",
    "version": 3
   },
   "file_extension": ".py",
   "mimetype": "text/x-python",
   "name": "python",
   "nbconvert_exporter": "python",
   "pygments_lexer": "ipython3",
   "version": "3.12.1"
  }
 },
 "nbformat": 4,
 "nbformat_minor": 2
}
