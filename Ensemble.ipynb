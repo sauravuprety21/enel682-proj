{
 "cells": [
  {
   "cell_type": "markdown",
   "metadata": {},
   "source": [
    "# Ensemble Method Implementation : Random Forest Classifier"
   ]
  },
  {
   "cell_type": "markdown",
   "metadata": {},
   "source": [
    "In machine learning, ensemble methods are strategies that merge several independent models to produce a more potent and reliable model. The purpose of ensemble methods is to increase overall predictive performance by utilizing the diversity of the constituent models.\n",
    "Here, a popular Ensemble method is used for our Vehicle Motion Classification Problem: **Random Forest Classifier**\n",
    "\n",
    "Three datasets are used, \n",
    "\n",
    "Dataset 1 : Used for training and testing (training_set)\n",
    "\n",
    "Dataset 2 : Used for independent testing (testing_set 1)\n",
    "\n",
    "Dataset 3 : Used for independent testing (testing_set 2)"
   ]
  },
  {
   "cell_type": "markdown",
   "metadata": {},
   "source": [
    "***\n"
   ]
  },
  {
   "cell_type": "markdown",
   "metadata": {},
   "source": [
    "## Preparing training and testing sets"
   ]
  },
  {
   "cell_type": "code",
   "execution_count": 277,
   "metadata": {},
   "outputs": [
    {
     "data": {
      "text/html": [
       "<div>\n",
       "<style scoped>\n",
       "    .dataframe tbody tr th:only-of-type {\n",
       "        vertical-align: middle;\n",
       "    }\n",
       "\n",
       "    .dataframe tbody tr th {\n",
       "        vertical-align: top;\n",
       "    }\n",
       "\n",
       "    .dataframe thead th {\n",
       "        text-align: right;\n",
       "    }\n",
       "</style>\n",
       "<table border=\"1\" class=\"dataframe\">\n",
       "  <thead>\n",
       "    <tr style=\"text-align: right;\">\n",
       "      <th></th>\n",
       "      <th>motion_state</th>\n",
       "      <th>adt_sum</th>\n",
       "      <th>gdt_sum</th>\n",
       "      <th>axdt_var</th>\n",
       "      <th>aydt_var</th>\n",
       "      <th>azdt_var</th>\n",
       "      <th>gxdt_var</th>\n",
       "      <th>gydt_var</th>\n",
       "      <th>gzdt_var</th>\n",
       "      <th>adt_var</th>\n",
       "      <th>gdt_var</th>\n",
       "      <th>adt_min</th>\n",
       "      <th>gdt_min</th>\n",
       "      <th>adt_max</th>\n",
       "      <th>gdt_max</th>\n",
       "    </tr>\n",
       "  </thead>\n",
       "  <tbody>\n",
       "    <tr>\n",
       "      <th>0</th>\n",
       "      <td>straight</td>\n",
       "      <td>9.498792</td>\n",
       "      <td>0.008515</td>\n",
       "      <td>0.000004</td>\n",
       "      <td>0.000001</td>\n",
       "      <td>0.000006</td>\n",
       "      <td>3.856139e-09</td>\n",
       "      <td>2.467973e-09</td>\n",
       "      <td>1.958251e-09</td>\n",
       "      <td>0.000006</td>\n",
       "      <td>1.076465e-09</td>\n",
       "      <td>0.093785</td>\n",
       "      <td>0.000026</td>\n",
       "      <td>0.101785</td>\n",
       "      <td>0.000171</td>\n",
       "    </tr>\n",
       "    <tr>\n",
       "      <th>1</th>\n",
       "      <td>straight</td>\n",
       "      <td>9.799902</td>\n",
       "      <td>0.008413</td>\n",
       "      <td>0.000004</td>\n",
       "      <td>0.000001</td>\n",
       "      <td>0.000007</td>\n",
       "      <td>3.463234e-09</td>\n",
       "      <td>2.769963e-09</td>\n",
       "      <td>1.785013e-09</td>\n",
       "      <td>0.000006</td>\n",
       "      <td>1.299795e-09</td>\n",
       "      <td>0.094010</td>\n",
       "      <td>0.000015</td>\n",
       "      <td>0.101634</td>\n",
       "      <td>0.000167</td>\n",
       "    </tr>\n",
       "    <tr>\n",
       "      <th>2</th>\n",
       "      <td>rest</td>\n",
       "      <td>9.792245</td>\n",
       "      <td>0.009893</td>\n",
       "      <td>0.000004</td>\n",
       "      <td>0.000001</td>\n",
       "      <td>0.000007</td>\n",
       "      <td>3.881253e-09</td>\n",
       "      <td>3.281482e-09</td>\n",
       "      <td>3.870479e-09</td>\n",
       "      <td>0.000007</td>\n",
       "      <td>1.794662e-09</td>\n",
       "      <td>0.093513</td>\n",
       "      <td>0.000010</td>\n",
       "      <td>0.101982</td>\n",
       "      <td>0.000219</td>\n",
       "    </tr>\n",
       "    <tr>\n",
       "      <th>3</th>\n",
       "      <td>rest</td>\n",
       "      <td>9.796759</td>\n",
       "      <td>0.009319</td>\n",
       "      <td>0.000004</td>\n",
       "      <td>0.000001</td>\n",
       "      <td>0.000008</td>\n",
       "      <td>3.439800e-09</td>\n",
       "      <td>3.309496e-09</td>\n",
       "      <td>2.681825e-09</td>\n",
       "      <td>0.000008</td>\n",
       "      <td>1.547565e-09</td>\n",
       "      <td>0.093461</td>\n",
       "      <td>0.000017</td>\n",
       "      <td>0.102362</td>\n",
       "      <td>0.000206</td>\n",
       "    </tr>\n",
       "    <tr>\n",
       "      <th>4</th>\n",
       "      <td>straight</td>\n",
       "      <td>9.806574</td>\n",
       "      <td>0.009778</td>\n",
       "      <td>0.000003</td>\n",
       "      <td>0.000008</td>\n",
       "      <td>0.000006</td>\n",
       "      <td>5.623301e-09</td>\n",
       "      <td>2.478434e-09</td>\n",
       "      <td>2.738851e-09</td>\n",
       "      <td>0.000006</td>\n",
       "      <td>1.621392e-09</td>\n",
       "      <td>0.093818</td>\n",
       "      <td>0.000032</td>\n",
       "      <td>0.102166</td>\n",
       "      <td>0.000213</td>\n",
       "    </tr>\n",
       "  </tbody>\n",
       "</table>\n",
       "</div>"
      ],
      "text/plain": [
       "  motion_state   adt_sum   gdt_sum  axdt_var  aydt_var  azdt_var  \\\n",
       "0     straight  9.498792  0.008515  0.000004  0.000001  0.000006   \n",
       "1     straight  9.799902  0.008413  0.000004  0.000001  0.000007   \n",
       "2         rest  9.792245  0.009893  0.000004  0.000001  0.000007   \n",
       "3         rest  9.796759  0.009319  0.000004  0.000001  0.000008   \n",
       "4     straight  9.806574  0.009778  0.000003  0.000008  0.000006   \n",
       "\n",
       "       gxdt_var      gydt_var      gzdt_var   adt_var       gdt_var   adt_min  \\\n",
       "0  3.856139e-09  2.467973e-09  1.958251e-09  0.000006  1.076465e-09  0.093785   \n",
       "1  3.463234e-09  2.769963e-09  1.785013e-09  0.000006  1.299795e-09  0.094010   \n",
       "2  3.881253e-09  3.281482e-09  3.870479e-09  0.000007  1.794662e-09  0.093513   \n",
       "3  3.439800e-09  3.309496e-09  2.681825e-09  0.000008  1.547565e-09  0.093461   \n",
       "4  5.623301e-09  2.478434e-09  2.738851e-09  0.000006  1.621392e-09  0.093818   \n",
       "\n",
       "    gdt_min   adt_max   gdt_max  \n",
       "0  0.000026  0.101785  0.000171  \n",
       "1  0.000015  0.101634  0.000167  \n",
       "2  0.000010  0.101982  0.000219  \n",
       "3  0.000017  0.102362  0.000206  \n",
       "4  0.000032  0.102166  0.000213  "
      ]
     },
     "execution_count": 277,
     "metadata": {},
     "output_type": "execute_result"
    }
   ],
   "source": [
    "import pandas as pd\n",
    "import numpy as np\n",
    "\n",
    "import matplotlib.pyplot as plt\n",
    "\n",
    "#Reading training dataset\n",
    "training_set = pd.read_csv('data/training.csv')\n",
    "training_set.head()"
   ]
  },
  {
   "cell_type": "code",
   "execution_count": 278,
   "metadata": {},
   "outputs": [
    {
     "name": "stdout",
     "output_type": "stream",
     "text": [
      "Feature matrix :\n",
      "    adt_sum   gdt_sum  axdt_var  aydt_var  azdt_var      gxdt_var  \\\n",
      "0  9.498792  0.008515  0.000004  0.000001  0.000006  3.856139e-09   \n",
      "1  9.799902  0.008413  0.000004  0.000001  0.000007  3.463234e-09   \n",
      "2  9.792245  0.009893  0.000004  0.000001  0.000007  3.881253e-09   \n",
      "3  9.796759  0.009319  0.000004  0.000001  0.000008  3.439800e-09   \n",
      "4  9.806574  0.009778  0.000003  0.000008  0.000006  5.623301e-09   \n",
      "\n",
      "       gydt_var      gzdt_var   adt_var       gdt_var   adt_min   gdt_min  \\\n",
      "0  2.467973e-09  1.958251e-09  0.000006  1.076465e-09  0.093785  0.000026   \n",
      "1  2.769963e-09  1.785013e-09  0.000006  1.299795e-09  0.094010  0.000015   \n",
      "2  3.281482e-09  3.870479e-09  0.000007  1.794662e-09  0.093513  0.000010   \n",
      "3  3.309496e-09  2.681825e-09  0.000008  1.547565e-09  0.093461  0.000017   \n",
      "4  2.478434e-09  2.738851e-09  0.000006  1.621392e-09  0.093818  0.000032   \n",
      "\n",
      "    adt_max   gdt_max  \n",
      "0  0.101785  0.000171  \n",
      "1  0.101634  0.000167  \n",
      "2  0.101982  0.000219  \n",
      "3  0.102362  0.000206  \n",
      "4  0.102166  0.000213  \n",
      "\n",
      "\n",
      "Target vector: \n",
      "0    straight\n",
      "1    straight\n",
      "2        rest\n",
      "3        rest\n",
      "4    straight\n",
      "Name: motion_state, dtype: object\n"
     ]
    }
   ],
   "source": [
    "#Separating the feature matrix (X) and target vector (y)\n",
    "y = training_set['motion_state'].copy()\n",
    "X = training_set[[col for col in training_set.columns if col !='motion_state']].copy()\n",
    "print(\"Feature matrix :\")\n",
    "print(X.head())\n",
    "print(\"\\n\")\n",
    "print(\"Target vector: \")\n",
    "print(y.head())"
   ]
  },
  {
   "cell_type": "code",
   "execution_count": 279,
   "metadata": {},
   "outputs": [],
   "source": [
    "from sklearn.pipeline import Pipeline\n",
    "from sklearn.model_selection import train_test_split\n",
    "from sklearn.ensemble import RandomForestClassifier, GradientBoostingClassifier\n",
    "from sklearn.model_selection import GridSearchCV"
   ]
  },
  {
   "cell_type": "code",
   "execution_count": 280,
   "metadata": {},
   "outputs": [],
   "source": [
    "#Splitting the training dataset into training and test segments for the ML models\n",
    "X_train, X_test, y_train, y_test = train_test_split(X, y, test_size=0.3, stratify=y, random_state=42)"
   ]
  },
  {
   "cell_type": "markdown",
   "metadata": {},
   "source": [
    "## Utilising GridSearchCV with a Pipeline \n",
    "#### (Reference from course notes: Pipeline_steps.ipynb)"
   ]
  },
  {
   "cell_type": "markdown",
   "metadata": {},
   "source": [
    "**GridSearchCv** from the scikit-learn library performs a grid search and cross validation.\n",
    "\n",
    "__Grid Search__ : \n",
    "- systematically explores predefined hyperparameter values to find the optimal combination for a machine learning model.\n",
    "- helps in tuning model parameters to improve performance metrics\n",
    "\n",
    "__Cross Validation__ :\n",
    "- splits the dataset into multiple subsets and evaluating the model on each subset\n",
    "- helps reduce the risk of overfitting and ensures better generalization\n",
    "\n",
    "Therefore, GridSearchCV automates the process of hyperparameter tuning while ensuring a reliable estimate of the model's performance through cross-validation."
   ]
  },
  {
   "cell_type": "markdown",
   "metadata": {},
   "source": [
    "***"
   ]
  },
  {
   "cell_type": "markdown",
   "metadata": {},
   "source": [
    "A **Pipeline** is a sequence of data processing steps combined into a single workflow, where the output of each step is the input to the next.\n",
    "\n",
    "When combining GridSearchCV with a Pipeline, the general steps followed are as follows:\n",
    "1. Define Pipeline\n",
    "    - Pipelines are defined, comprising preprocessing transformers and a machine learning model.\n",
    "\n",
    "2. Define Parameter Grid\n",
    "    - Hyperparameter grids for the model in the pipeline are specified.\n",
    "\n",
    "3. Instantiate GridSearchCV\n",
    "    - GridSearchCV objects are instantiated, incorporating the pipeline and parameter grids, along with the desired number of cross-validation folds.\n",
    "\n",
    "4. Fit GridSearchCV\n",
    "    - GridSearchCV objects are fitted to the training data.\n",
    "\n",
    "5. Get Best Estimator\n",
    "    - Best estimators, representing the pipeline with optimal hyperparameters, are obtained from the GridSearchCV objects.\n",
    "\n",
    "6. Print Results\n",
    "    - Best parameters, training and validation scores are printed, and the best model may be evaluated on the test set if needed."
   ]
  },
  {
   "cell_type": "markdown",
   "metadata": {},
   "source": [
    "***"
   ]
  },
  {
   "cell_type": "markdown",
   "metadata": {},
   "source": [
    "## Random Forest Classifier (RFC)\n",
    "#### (Reference from course notes : Random Forest Example.ipynb)"
   ]
  },
  {
   "cell_type": "markdown",
   "metadata": {},
   "source": [
    "**Random Forest Classifier (RFC)** is an ensemble learning method used for classification tasks.\n",
    "- constructs multiple decision trees during training with injected randomness, so that each tree is different\n",
    "- provides a probability for each possible output label, and the probabilities for all trees are averaged for prediction, thus reducing chances of overfitting\n",
    "- performs parallel computing by default for all trees\n",
    "\n",
    "Parameters used for Random Forest Classifier here : \n",
    "1. *n_estimators* = determines number of decision trees to be used in the forest. Increasing n_estimators decreases the chance of overfitting, however increases computational cost.\n",
    "2. *max_depth* = sets the maximum depth of each tree in the forest. Increasing max_depth increases the chances of overfitting.\n",
    "***"
   ]
  },
  {
   "cell_type": "code",
   "execution_count": 281,
   "metadata": {},
   "outputs": [],
   "source": [
    "# 1. Define Pipeline for Random Forest Classifier\n",
    "pipe_RFC = Pipeline([('classifier',RandomForestClassifier())])"
   ]
  },
  {
   "cell_type": "code",
   "execution_count": 282,
   "metadata": {},
   "outputs": [],
   "source": [
    "# 2. Define Parameter Grid for Random Forest Classifier\n",
    "param_grid_RFC ={\n",
    "        'classifier': [RandomForestClassifier(random_state=42)],\n",
    "        'classifier__n_estimators': [2, 5, 10, 50],\n",
    "        'classifier__max_depth': [ 2, 3, 5, 10, 50 , 100]\n",
    "    }"
   ]
  },
  {
   "cell_type": "code",
   "execution_count": 283,
   "metadata": {},
   "outputs": [],
   "source": [
    "# 3. Instantiate GridSearchCV\n",
    "grid_RFC = GridSearchCV(pipe_RFC, param_grid_RFC, cv=5, return_train_score=True, scoring='roc_auc_ovo_weighted')\n",
    "\n",
    "# 4. Fit GridSearchCV\n",
    "grid_RFC.fit(X_train, y_train)\n",
    "\n",
    "# 5. Get Best Estimator for Random Forest Classifier\n",
    "RFC_best_estimator = grid_RFC.best_estimator_"
   ]
  },
  {
   "cell_type": "code",
   "execution_count": 284,
   "metadata": {},
   "outputs": [
    {
     "name": "stdout",
     "output_type": "stream",
     "text": [
      "Random Forest Classifier :\n",
      "Best parameters:\n",
      "{'classifier': RandomForestClassifier(max_depth=10, n_estimators=50, random_state=42), 'classifier__max_depth': 10, 'classifier__n_estimators': 50}\n",
      "\n",
      "Best CV train score: 1.000000\n",
      "Best CV validation score: 0.963481\n",
      "Test set score: 0.956884\n"
     ]
    }
   ],
   "source": [
    "# Print Results for Random Forest Classifier\n",
    "print(\"Random Forest Classifier :\")\n",
    "print(\"Best parameters:\\n{}\\n\".format(grid_RFC.best_params_))\n",
    "print(\"Best CV train score: {:.6f}\".format(grid_RFC.cv_results_['mean_train_score'][grid_RFC.best_index_]))\n",
    "print(\"Best CV validation score: {:.6f}\".format(grid_RFC.best_score_))\n",
    "print(\"Test set score: {:.6f}\".format(grid_RFC.score(X_test, y_test)))"
   ]
  },
  {
   "cell_type": "markdown",
   "metadata": {},
   "source": [
    "***"
   ]
  },
  {
   "cell_type": "markdown",
   "metadata": {},
   "source": [
    "## Calculating Evaluation Metrics\n",
    "\n",
    "#### (Reference from course notes : Binary Classification.ipynb)"
   ]
  },
  {
   "cell_type": "markdown",
   "metadata": {},
   "source": [
    "The following metrics are used for evaluating the models:\n",
    "\n",
    "1. *Confusion Matrix* \n",
    "-  A table showing the counts of True Positive (TP), True Negative (TN), False Positive (FP), and False Negative (FN) predictions made by a classification model\n",
    "- It helps assess the performance of the model by visualizing the types of errors it makes\n",
    "\n",
    "2. *Accuracy*\n",
    "- The proportion of correctly classified instances out of the total instances\n",
    "- It measures overall correctness of the model, higher accuracy indicates better overall performance\n",
    "\n",
    "            Accuracy = (TP + TN) / (TP + TN + FP + FN)\n",
    "\n",
    "3. *Precision*\n",
    "- The ratio of correctly predicted positive instances to the total predicted positive instances\n",
    "- It measures the model's ability to avoid false positives, higher precision means fewer false positives\n",
    "\n",
    "            Precision = TP / (TP + FP)\n",
    "\n",
    "4. *Recall (Sensitivity)*\n",
    "- The ratio of correctly predicted positive instances to all actual positive instances\n",
    "- It measures the model's ability to capture all positive instances, higher recall means fewer false negatives\n",
    "\n",
    "            Recall = TP / (TP + FN)\n",
    "\n",
    "5. *F1 Score*\n",
    "- The harmonic mean of precision and recall, providing a single score that balances both metrics\n",
    "-  Higher F1 score indicates a better balance between precision and recall\n",
    "\n",
    "            F1_score = 2 * (Precision * Recall) / (Precision + Recall)\n",
    "\n",
    "6. *Classification Report*\n",
    "- A text summary of precision, recall, F1-score, and support for each class in the classification model\n",
    "- It provides detailed insights into the performance of the model for each class\n",
    "\n",
    "\n"
   ]
  },
  {
   "cell_type": "markdown",
   "metadata": {},
   "source": [
    "***"
   ]
  },
  {
   "cell_type": "code",
   "execution_count": 285,
   "metadata": {},
   "outputs": [],
   "source": [
    "from sklearn.ensemble import GradientBoostingClassifier\n",
    "from sklearn.metrics import confusion_matrix, accuracy_score, precision_score, recall_score, f1_score, classification_report\n",
    "import seaborn as sns\n",
    "import matplotlib.pyplot as plt\n",
    "\n",
    "# Function to calculate all the evaluation metrics for the models\n",
    "\n",
    "'''\n",
    "Input:\n",
    "true_values = true value of target vector the testing set\n",
    "predicted_values = value of target vector predicted by the model\n",
    "ticklabels = axes labels for the confusion matrix\n",
    "model = name of the model used\n",
    "\n",
    "Output:\n",
    "- Prints the confusion matrix\n",
    "- Prints accuracy, precision, recall, f1_score and classification report for that model\n",
    "\n",
    "'''\n",
    "\n",
    "def evaluate_classification(true_values, predicted_values, ticklabels, model):\n",
    "    # Calculate confusion matrix\n",
    "    confusion_mat = confusion_matrix(true_values, predicted_values)\n",
    "    \n",
    "    # Plot heatmap\n",
    "    sns.heatmap(confusion_mat, xticklabels=ticklabels, yticklabels=ticklabels, annot=True, fmt='d', cbar=False, cmap='viridis')\n",
    "    plt.xlabel('Predicted values')\n",
    "    plt.ylabel('True values')\n",
    "    plt.title('Confusion Matrix - ' + model)\n",
    "    plt.show()\n",
    "\n",
    "    # Calculate scores\n",
    "    accuracy = accuracy_score(true_values, predicted_values)\n",
    "    precision = precision_score(true_values, predicted_values, average='macro')\n",
    "    recall = recall_score(true_values, predicted_values, average='macro')\n",
    "    f1 = f1_score(true_values, predicted_values, average='macro')\n",
    "\n",
    "\n",
    "    # Print classification report\n",
    "    print(\"\\nClassification Report for\", model + \":\")\n",
    "    print(classification_report(true_values, predicted_values))\n",
    "\n",
    "    # Print scores\n",
    "    print(\"\\nAccuracy Score:\", accuracy)\n",
    "    print(\"Precision Score:\", precision)\n",
    "    print(\"Recall Score:\", recall)\n",
    "    print(\"F1 Score:\", f1)"
   ]
  },
  {
   "cell_type": "markdown",
   "metadata": {},
   "source": [
    "### Random Forest Classifier results on Original Dataset (training_set)\n",
    "\n",
    "\n"
   ]
  },
  {
   "cell_type": "code",
   "execution_count": 286,
   "metadata": {},
   "outputs": [
    {
     "data": {
      "image/png": "[encoded data removed]",
      "text/plain": [
       "<Figure size 640x480 with 1 Axes>"
      ]
     },
     "metadata": {},
     "output_type": "display_data"
    },
    {
     "name": "stdout",
     "output_type": "stream",
     "text": [
      "\n",
      "Classification Report for Random Forest Classifier:\n",
      "              precision    recall  f1-score   support\n",
      "\n",
      "        rest       0.91      0.97      0.94        30\n",
      "    straight       0.85      0.91      0.88        32\n",
      "        turn       1.00      0.75      0.86        16\n",
      "\n",
      "    accuracy                           0.90        78\n",
      "   macro avg       0.92      0.87      0.89        78\n",
      "weighted avg       0.90      0.90      0.90        78\n",
      "\n",
      "\n",
      "Accuracy Score: 0.8974358974358975\n",
      "Precision Score: 0.9197303921568628\n",
      "Recall Score: 0.8743055555555556\n",
      "F1 Score: 0.8904715356328259\n",
      "Test-set score RFC: 0.897436\n"
     ]
    }
   ],
   "source": [
    "# Original Dataset results\n",
    "evaluate_classification(y_test, RFC_best_estimator.predict(X_test), ['rest', 'straight', 'turn'], 'Random Forest Classifier')\n",
    "print(\"Test-set score RFC: {:.6f}\".format(RFC_best_estimator.score(X_test, y_test)))"
   ]
  },
  {
   "cell_type": "markdown",
   "metadata": {},
   "source": [
    "# ENTER ANALYSIS HERE"
   ]
  },
  {
   "cell_type": "markdown",
   "metadata": {},
   "source": [
    "### Random Forest Classifier results on First Independent Testing Dataset (testing_set1)"
   ]
  },
  {
   "cell_type": "code",
   "execution_count": 287,
   "metadata": {},
   "outputs": [
    {
     "data": {
      "image/png": "[encoded data removed]",
      "text/plain": [
       "<Figure size 640x480 with 1 Axes>"
      ]
     },
     "metadata": {},
     "output_type": "display_data"
    },
    {
     "name": "stdout",
     "output_type": "stream",
     "text": [
      "\n",
      "Classification Report for Random Forest Classifier:\n",
      "              precision    recall  f1-score   support\n",
      "\n",
      "        rest       0.92      0.97      0.95        36\n",
      "    straight       0.96      0.96      0.96        96\n",
      "        turn       0.94      0.83      0.88        18\n",
      "\n",
      "    accuracy                           0.95       150\n",
      "   macro avg       0.94      0.92      0.93       150\n",
      "weighted avg       0.95      0.95      0.95       150\n",
      "\n",
      "\n",
      "Accuracy Score: 0.9466666666666667\n",
      "Precision Score: 0.9389619883040936\n",
      "Recall Score: 0.9212962962962963\n",
      "F1 Score: 0.9288774068185832\n",
      "Test-set score RFC: 0.946667\n"
     ]
    }
   ],
   "source": [
    "testing_set1 = pd.read_csv('data/testing.csv')\n",
    "y2 = testing_set1['motion_state'].copy()\n",
    "X2 = testing_set1[[col for col in testing_set1.columns if col !='motion_state']].copy()\n",
    "\n",
    "#Dataset 2 results\n",
    "evaluate_classification(y2, RFC_best_estimator.predict(X2), ['rest', 'straight', 'turn'], 'Random Forest Classifier')\n",
    "print(\"Test-set score RFC: {:.6f}\".format(RFC_best_estimator.score(X2, y2)))\n"
   ]
  },
  {
   "cell_type": "markdown",
   "metadata": {},
   "source": [
    "# ENTER ANALYSIS HERE"
   ]
  },
  {
   "cell_type": "markdown",
   "metadata": {},
   "source": [
    "### Random Forest Classifier results on Second Independent Testing Dataset (testing_set2)"
   ]
  },
  {
   "cell_type": "code",
   "execution_count": 288,
   "metadata": {},
   "outputs": [
    {
     "data": {
      "image/png": "[encoded data removed]",
      "text/plain": [
       "<Figure size 640x480 with 1 Axes>"
      ]
     },
     "metadata": {},
     "output_type": "display_data"
    },
    {
     "name": "stdout",
     "output_type": "stream",
     "text": [
      "\n",
      "Classification Report for Random Forest Classifier:\n",
      "              precision    recall  f1-score   support\n",
      "\n",
      "        rest       0.00      0.00      0.00        98\n",
      "    straight       0.63      0.99      0.77       183\n",
      "        turn       0.96      0.72      0.83        36\n",
      "\n",
      "    accuracy                           0.66       317\n",
      "   macro avg       0.53      0.57      0.53       317\n",
      "weighted avg       0.47      0.66      0.54       317\n",
      "\n",
      "\n",
      "Accuracy Score: 0.6561514195583596\n",
      "Precision Score: 0.5301830566198382\n",
      "Recall Score: 0.5722525804493017\n",
      "F1 Score: 0.5316509502556014\n",
      "Test-set score RFC: 0.656151\n"
     ]
    },
    {
     "name": "stderr",
     "output_type": "stream",
     "text": [
      "c:\\Users\\anany\\anaconda3\\envs\\proj682_env\\Lib\\site-packages\\sklearn\\metrics\\_classification.py:1469: UndefinedMetricWarning: Precision is ill-defined and being set to 0.0 in labels with no predicted samples. Use `zero_division` parameter to control this behavior.\n",
      "  _warn_prf(average, modifier, msg_start, len(result))\n",
      "c:\\Users\\anany\\anaconda3\\envs\\proj682_env\\Lib\\site-packages\\sklearn\\metrics\\_classification.py:1469: UndefinedMetricWarning: Precision and F-score are ill-defined and being set to 0.0 in labels with no predicted samples. Use `zero_division` parameter to control this behavior.\n",
      "  _warn_prf(average, modifier, msg_start, len(result))\n",
      "c:\\Users\\anany\\anaconda3\\envs\\proj682_env\\Lib\\site-packages\\sklearn\\metrics\\_classification.py:1469: UndefinedMetricWarning: Precision and F-score are ill-defined and being set to 0.0 in labels with no predicted samples. Use `zero_division` parameter to control this behavior.\n",
      "  _warn_prf(average, modifier, msg_start, len(result))\n",
      "c:\\Users\\anany\\anaconda3\\envs\\proj682_env\\Lib\\site-packages\\sklearn\\metrics\\_classification.py:1469: UndefinedMetricWarning: Precision and F-score are ill-defined and being set to 0.0 in labels with no predicted samples. Use `zero_division` parameter to control this behavior.\n",
      "  _warn_prf(average, modifier, msg_start, len(result))\n"
     ]
    }
   ],
   "source": [
    "testing_set2 = pd.read_csv('data/testing2.csv')\n",
    "y3 = testing_set2['motion_state'].copy()\n",
    "X3 = testing_set2[[col for col in testing_set2.columns if col !='motion_state']].copy()\n",
    "\n",
    "#Dataset 3 results\n",
    "evaluate_classification(y3, RFC_best_estimator.predict(X3), ['rest', 'straight', 'turn'], 'Random Forest Classifier')\n",
    "print(\"Test-set score RFC: {:.6f}\".format(RFC_best_estimator.score(X3, y3)))\n",
    "\n"
   ]
  },
  {
   "cell_type": "markdown",
   "metadata": {},
   "source": [
    "# ENTER ANALYSIS HERE"
   ]
  }
 ],
 "metadata": {
  "kernelspec": {
   "display_name": "proj682_env",
   "language": "python",
   "name": "python3"
  },
  "language_info": {
   "codemirror_mode": {
    "name": "ipython",
    "version": 3
   },
   "file_extension": ".py",
   "mimetype": "text/x-python",
   "name": "python",
   "nbconvert_exporter": "python",
   "pygments_lexer": "ipython3",
   "version": "3.12.2"
  }
 },
 "nbformat": 4,
 "nbformat_minor": 2
}
