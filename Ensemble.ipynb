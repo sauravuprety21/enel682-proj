{
 "cells": [
  {
   "cell_type": "code",
   "execution_count": 42,
   "metadata": {},
   "outputs": [],
   "source": [
    "import pandas as pd\n",
    "import numpy as np\n",
    "\n",
    "import matplotlib.pyplot as plt"
   ]
  },
  {
   "cell_type": "code",
   "execution_count": 43,
   "metadata": {},
   "outputs": [
    {
     "data": {
      "text/html": [
       "<div>\n",
       "<style scoped>\n",
       "    .dataframe tbody tr th:only-of-type {\n",
       "        vertical-align: middle;\n",
       "    }\n",
       "\n",
       "    .dataframe tbody tr th {\n",
       "        vertical-align: top;\n",
       "    }\n",
       "\n",
       "    .dataframe thead th {\n",
       "        text-align: right;\n",
       "    }\n",
       "</style>\n",
       "<table border=\"1\" class=\"dataframe\">\n",
       "  <thead>\n",
       "    <tr style=\"text-align: right;\">\n",
       "      <th></th>\n",
       "      <th>motion_state</th>\n",
       "      <th>axdt_sum</th>\n",
       "      <th>aydt_sum</th>\n",
       "      <th>azdt_sum</th>\n",
       "      <th>gxdt_sum</th>\n",
       "      <th>gydt_sum</th>\n",
       "      <th>gzdt_sum</th>\n",
       "      <th>adt_sum</th>\n",
       "      <th>gdt_sum</th>\n",
       "      <th>axdt_var</th>\n",
       "      <th>...</th>\n",
       "      <th>adt_min</th>\n",
       "      <th>gdt_min</th>\n",
       "      <th>axdt_max</th>\n",
       "      <th>aydt_max</th>\n",
       "      <th>azdt_max</th>\n",
       "      <th>gxdt_max</th>\n",
       "      <th>gydt_max</th>\n",
       "      <th>gzdt_max</th>\n",
       "      <th>adt_max</th>\n",
       "      <th>gdt_max</th>\n",
       "    </tr>\n",
       "  </thead>\n",
       "  <tbody>\n",
       "    <tr>\n",
       "      <th>0</th>\n",
       "      <td>rest</td>\n",
       "      <td>0.208844</td>\n",
       "      <td>0.078495</td>\n",
       "      <td>9.493337</td>\n",
       "      <td>-0.001675</td>\n",
       "      <td>0.001102</td>\n",
       "      <td>-0.001176</td>\n",
       "      <td>9.498792</td>\n",
       "      <td>0.008515</td>\n",
       "      <td>0.000004</td>\n",
       "      <td>...</td>\n",
       "      <td>0.093785</td>\n",
       "      <td>0.000026</td>\n",
       "      <td>0.005700</td>\n",
       "      <td>0.002976</td>\n",
       "      <td>0.101778</td>\n",
       "      <td>0.000119</td>\n",
       "      <td>0.000115</td>\n",
       "      <td>0.000103</td>\n",
       "      <td>0.101785</td>\n",
       "      <td>0.000171</td>\n",
       "    </tr>\n",
       "    <tr>\n",
       "      <th>1</th>\n",
       "      <td>rest</td>\n",
       "      <td>0.211935</td>\n",
       "      <td>0.086485</td>\n",
       "      <td>9.794426</td>\n",
       "      <td>-0.001977</td>\n",
       "      <td>0.000370</td>\n",
       "      <td>-0.000462</td>\n",
       "      <td>9.799902</td>\n",
       "      <td>0.008413</td>\n",
       "      <td>0.000004</td>\n",
       "      <td>...</td>\n",
       "      <td>0.094010</td>\n",
       "      <td>0.000015</td>\n",
       "      <td>0.005566</td>\n",
       "      <td>0.002930</td>\n",
       "      <td>0.101622</td>\n",
       "      <td>0.000137</td>\n",
       "      <td>0.000131</td>\n",
       "      <td>0.000090</td>\n",
       "      <td>0.101634</td>\n",
       "      <td>0.000167</td>\n",
       "    </tr>\n",
       "    <tr>\n",
       "      <th>2</th>\n",
       "      <td>rest</td>\n",
       "      <td>0.214289</td>\n",
       "      <td>0.083671</td>\n",
       "      <td>9.786784</td>\n",
       "      <td>-0.001740</td>\n",
       "      <td>0.000793</td>\n",
       "      <td>-0.001662</td>\n",
       "      <td>9.792245</td>\n",
       "      <td>0.009893</td>\n",
       "      <td>0.000004</td>\n",
       "      <td>...</td>\n",
       "      <td>0.093513</td>\n",
       "      <td>0.000010</td>\n",
       "      <td>0.005701</td>\n",
       "      <td>0.002926</td>\n",
       "      <td>0.101971</td>\n",
       "      <td>0.000110</td>\n",
       "      <td>0.000191</td>\n",
       "      <td>0.000181</td>\n",
       "      <td>0.101982</td>\n",
       "      <td>0.000219</td>\n",
       "    </tr>\n",
       "    <tr>\n",
       "      <th>3</th>\n",
       "      <td>rest</td>\n",
       "      <td>0.218394</td>\n",
       "      <td>0.083838</td>\n",
       "      <td>9.791271</td>\n",
       "      <td>-0.002218</td>\n",
       "      <td>0.001297</td>\n",
       "      <td>-0.001483</td>\n",
       "      <td>9.796759</td>\n",
       "      <td>0.009319</td>\n",
       "      <td>0.000004</td>\n",
       "      <td>...</td>\n",
       "      <td>0.093461</td>\n",
       "      <td>0.000017</td>\n",
       "      <td>0.005728</td>\n",
       "      <td>0.002998</td>\n",
       "      <td>0.102332</td>\n",
       "      <td>0.000101</td>\n",
       "      <td>0.000179</td>\n",
       "      <td>0.000102</td>\n",
       "      <td>0.102362</td>\n",
       "      <td>0.000206</td>\n",
       "    </tr>\n",
       "    <tr>\n",
       "      <th>4</th>\n",
       "      <td>rest</td>\n",
       "      <td>0.222900</td>\n",
       "      <td>0.259758</td>\n",
       "      <td>9.795122</td>\n",
       "      <td>-0.000059</td>\n",
       "      <td>0.001148</td>\n",
       "      <td>-0.001739</td>\n",
       "      <td>9.806574</td>\n",
       "      <td>0.009778</td>\n",
       "      <td>0.000003</td>\n",
       "      <td>...</td>\n",
       "      <td>0.093818</td>\n",
       "      <td>0.000032</td>\n",
       "      <td>0.005978</td>\n",
       "      <td>0.010632</td>\n",
       "      <td>0.102123</td>\n",
       "      <td>0.000207</td>\n",
       "      <td>0.000126</td>\n",
       "      <td>0.000130</td>\n",
       "      <td>0.102166</td>\n",
       "      <td>0.000213</td>\n",
       "    </tr>\n",
       "  </tbody>\n",
       "</table>\n",
       "<p>5 rows × 33 columns</p>\n",
       "</div>"
      ],
      "text/plain": [
       "  motion_state  axdt_sum  aydt_sum  azdt_sum  gxdt_sum  gydt_sum  gzdt_sum  \\\n",
       "0         rest  0.208844  0.078495  9.493337 -0.001675  0.001102 -0.001176   \n",
       "1         rest  0.211935  0.086485  9.794426 -0.001977  0.000370 -0.000462   \n",
       "2         rest  0.214289  0.083671  9.786784 -0.001740  0.000793 -0.001662   \n",
       "3         rest  0.218394  0.083838  9.791271 -0.002218  0.001297 -0.001483   \n",
       "4         rest  0.222900  0.259758  9.795122 -0.000059  0.001148 -0.001739   \n",
       "\n",
       "    adt_sum   gdt_sum  axdt_var  ...   adt_min   gdt_min  axdt_max  aydt_max  \\\n",
       "0  9.498792  0.008515  0.000004  ...  0.093785  0.000026  0.005700  0.002976   \n",
       "1  9.799902  0.008413  0.000004  ...  0.094010  0.000015  0.005566  0.002930   \n",
       "2  9.792245  0.009893  0.000004  ...  0.093513  0.000010  0.005701  0.002926   \n",
       "3  9.796759  0.009319  0.000004  ...  0.093461  0.000017  0.005728  0.002998   \n",
       "4  9.806574  0.009778  0.000003  ...  0.093818  0.000032  0.005978  0.010632   \n",
       "\n",
       "   azdt_max  gxdt_max  gydt_max  gzdt_max   adt_max   gdt_max  \n",
       "0  0.101778  0.000119  0.000115  0.000103  0.101785  0.000171  \n",
       "1  0.101622  0.000137  0.000131  0.000090  0.101634  0.000167  \n",
       "2  0.101971  0.000110  0.000191  0.000181  0.101982  0.000219  \n",
       "3  0.102332  0.000101  0.000179  0.000102  0.102362  0.000206  \n",
       "4  0.102123  0.000207  0.000126  0.000130  0.102166  0.000213  \n",
       "\n",
       "[5 rows x 33 columns]"
      ]
     },
     "execution_count": 43,
     "metadata": {},
     "output_type": "execute_result"
    }
   ],
   "source": [
    "df = pd.read_csv('data/training.csv')\n",
    "df.head()"
   ]
  },
  {
   "cell_type": "code",
   "execution_count": 44,
   "metadata": {},
   "outputs": [
    {
     "data": {
      "text/plain": [
       "0    rest\n",
       "1    rest\n",
       "2    rest\n",
       "3    rest\n",
       "4    rest\n",
       "Name: motion_state, dtype: object"
      ]
     },
     "execution_count": 44,
     "metadata": {},
     "output_type": "execute_result"
    }
   ],
   "source": [
    "y = df['motion_state'].copy()\n",
    "X = df[[col for col in df.columns if col !='motion_state']].copy()\n",
    "X.head()\n",
    "y.head()"
   ]
  },
  {
   "cell_type": "code",
   "execution_count": 45,
   "metadata": {},
   "outputs": [],
   "source": [
    "from sklearn.pipeline import Pipeline\n",
    "from sklearn.model_selection import train_test_split\n",
    "from sklearn.ensemble import RandomForestClassifier, GradientBoostingClassifier\n",
    "from sklearn.model_selection import GridSearchCV"
   ]
  },
  {
   "cell_type": "code",
   "execution_count": 46,
   "metadata": {},
   "outputs": [],
   "source": [
    "X_train, X_test, y_train, y_test = train_test_split(X, y, test_size=0.3, stratify=y, random_state=42)"
   ]
  },
  {
   "cell_type": "code",
   "execution_count": 47,
   "metadata": {},
   "outputs": [],
   "source": [
    "param_grid_RFC ={\n",
    "        'classifier': [RandomForestClassifier(random_state=42)],\n",
    "        'classifier__n_estimators': [10, 50, 100, 150],\n",
    "        'classifier__max_depth': [ 2, 3, 5]\n",
    "    }\n",
    "\n",
    "param_grid_GBC={\n",
    "        'classifier': [GradientBoostingClassifier(random_state=42)],\n",
    "        'classifier__n_estimators': [10, 50, 100, 150],\n",
    "        'classifier__max_depth': [ 2, 3, 5],\n",
    "        'classifier__learning_rate': [0.01, 0.1, 0.5, 1.0]\n",
    "    }\n"
   ]
  },
  {
   "cell_type": "code",
   "execution_count": 48,
   "metadata": {},
   "outputs": [],
   "source": [
    "pipe_RFC = Pipeline([('classifier',RandomForestClassifier())])"
   ]
  },
  {
   "cell_type": "code",
   "execution_count": 49,
   "metadata": {},
   "outputs": [
    {
     "data": {
      "text/html": [
       "<style>#sk-container-id-3 {color: black;}#sk-container-id-3 pre{padding: 0;}#sk-container-id-3 div.sk-toggleable {background-color: white;}#sk-container-id-3 label.sk-toggleable__label {cursor: pointer;display: block;width: 100%;margin-bottom: 0;padding: 0.3em;box-sizing: border-box;text-align: center;}#sk-container-id-3 label.sk-toggleable__label-arrow:before {content: \"▸\";float: left;margin-right: 0.25em;color: #696969;}#sk-container-id-3 label.sk-toggleable__label-arrow:hover:before {color: black;}#sk-container-id-3 div.sk-estimator:hover label.sk-toggleable__label-arrow:before {color: black;}#sk-container-id-3 div.sk-toggleable__content {max-height: 0;max-width: 0;overflow: hidden;text-align: left;background-color: #f0f8ff;}#sk-container-id-3 div.sk-toggleable__content pre {margin: 0.2em;color: black;border-radius: 0.25em;background-color: #f0f8ff;}#sk-container-id-3 input.sk-toggleable__control:checked~div.sk-toggleable__content {max-height: 200px;max-width: 100%;overflow: auto;}#sk-container-id-3 input.sk-toggleable__control:checked~label.sk-toggleable__label-arrow:before {content: \"▾\";}#sk-container-id-3 div.sk-estimator input.sk-toggleable__control:checked~label.sk-toggleable__label {background-color: #d4ebff;}#sk-container-id-3 div.sk-label input.sk-toggleable__control:checked~label.sk-toggleable__label {background-color: #d4ebff;}#sk-container-id-3 input.sk-hidden--visually {border: 0;clip: rect(1px 1px 1px 1px);clip: rect(1px, 1px, 1px, 1px);height: 1px;margin: -1px;overflow: hidden;padding: 0;position: absolute;width: 1px;}#sk-container-id-3 div.sk-estimator {font-family: monospace;background-color: #f0f8ff;border: 1px dotted black;border-radius: 0.25em;box-sizing: border-box;margin-bottom: 0.5em;}#sk-container-id-3 div.sk-estimator:hover {background-color: #d4ebff;}#sk-container-id-3 div.sk-parallel-item::after {content: \"\";width: 100%;border-bottom: 1px solid gray;flex-grow: 1;}#sk-container-id-3 div.sk-label:hover label.sk-toggleable__label {background-color: #d4ebff;}#sk-container-id-3 div.sk-serial::before {content: \"\";position: absolute;border-left: 1px solid gray;box-sizing: border-box;top: 0;bottom: 0;left: 50%;z-index: 0;}#sk-container-id-3 div.sk-serial {display: flex;flex-direction: column;align-items: center;background-color: white;padding-right: 0.2em;padding-left: 0.2em;position: relative;}#sk-container-id-3 div.sk-item {position: relative;z-index: 1;}#sk-container-id-3 div.sk-parallel {display: flex;align-items: stretch;justify-content: center;background-color: white;position: relative;}#sk-container-id-3 div.sk-item::before, #sk-container-id-3 div.sk-parallel-item::before {content: \"\";position: absolute;border-left: 1px solid gray;box-sizing: border-box;top: 0;bottom: 0;left: 50%;z-index: -1;}#sk-container-id-3 div.sk-parallel-item {display: flex;flex-direction: column;z-index: 1;position: relative;background-color: white;}#sk-container-id-3 div.sk-parallel-item:first-child::after {align-self: flex-end;width: 50%;}#sk-container-id-3 div.sk-parallel-item:last-child::after {align-self: flex-start;width: 50%;}#sk-container-id-3 div.sk-parallel-item:only-child::after {width: 0;}#sk-container-id-3 div.sk-dashed-wrapped {border: 1px dashed gray;margin: 0 0.4em 0.5em 0.4em;box-sizing: border-box;padding-bottom: 0.4em;background-color: white;}#sk-container-id-3 div.sk-label label {font-family: monospace;font-weight: bold;display: inline-block;line-height: 1.2em;}#sk-container-id-3 div.sk-label-container {text-align: center;}#sk-container-id-3 div.sk-container {/* jupyter's `normalize.less` sets `[hidden] { display: none; }` but bootstrap.min.css set `[hidden] { display: none !important; }` so we also need the `!important` here to be able to override the default hidden behavior on the sphinx rendered scikit-learn.org. See: https://github.com/scikit-learn/scikit-learn/issues/21755 */display: inline-block !important;position: relative;}#sk-container-id-3 div.sk-text-repr-fallback {display: none;}</style><div id=\"sk-container-id-3\" class=\"sk-top-container\"><div class=\"sk-text-repr-fallback\"><pre>GridSearchCV(cv=5,\n",
       "             estimator=Pipeline(steps=[(&#x27;classifier&#x27;,\n",
       "                                        RandomForestClassifier())]),\n",
       "             param_grid={&#x27;classifier&#x27;: [RandomForestClassifier(max_depth=2,\n",
       "                                                               random_state=42)],\n",
       "                         &#x27;classifier__max_depth&#x27;: [2, 3, 5],\n",
       "                         &#x27;classifier__n_estimators&#x27;: [10, 50, 100, 150]},\n",
       "             return_train_score=True)</pre><b>In a Jupyter environment, please rerun this cell to show the HTML representation or trust the notebook. <br />On GitHub, the HTML representation is unable to render, please try loading this page with nbviewer.org.</b></div><div class=\"sk-container\" hidden><div class=\"sk-item sk-dashed-wrapped\"><div class=\"sk-label-container\"><div class=\"sk-label sk-toggleable\"><input class=\"sk-toggleable__control sk-hidden--visually\" id=\"sk-estimator-id-7\" type=\"checkbox\" ><label for=\"sk-estimator-id-7\" class=\"sk-toggleable__label sk-toggleable__label-arrow\">GridSearchCV</label><div class=\"sk-toggleable__content\"><pre>GridSearchCV(cv=5,\n",
       "             estimator=Pipeline(steps=[(&#x27;classifier&#x27;,\n",
       "                                        RandomForestClassifier())]),\n",
       "             param_grid={&#x27;classifier&#x27;: [RandomForestClassifier(max_depth=2,\n",
       "                                                               random_state=42)],\n",
       "                         &#x27;classifier__max_depth&#x27;: [2, 3, 5],\n",
       "                         &#x27;classifier__n_estimators&#x27;: [10, 50, 100, 150]},\n",
       "             return_train_score=True)</pre></div></div></div><div class=\"sk-parallel\"><div class=\"sk-parallel-item\"><div class=\"sk-item\"><div class=\"sk-label-container\"><div class=\"sk-label sk-toggleable\"><input class=\"sk-toggleable__control sk-hidden--visually\" id=\"sk-estimator-id-8\" type=\"checkbox\" ><label for=\"sk-estimator-id-8\" class=\"sk-toggleable__label sk-toggleable__label-arrow\">estimator: Pipeline</label><div class=\"sk-toggleable__content\"><pre>Pipeline(steps=[(&#x27;classifier&#x27;, RandomForestClassifier())])</pre></div></div></div><div class=\"sk-serial\"><div class=\"sk-item\"><div class=\"sk-serial\"><div class=\"sk-item\"><div class=\"sk-estimator sk-toggleable\"><input class=\"sk-toggleable__control sk-hidden--visually\" id=\"sk-estimator-id-9\" type=\"checkbox\" ><label for=\"sk-estimator-id-9\" class=\"sk-toggleable__label sk-toggleable__label-arrow\">RandomForestClassifier</label><div class=\"sk-toggleable__content\"><pre>RandomForestClassifier()</pre></div></div></div></div></div></div></div></div></div></div></div></div>"
      ],
      "text/plain": [
       "GridSearchCV(cv=5,\n",
       "             estimator=Pipeline(steps=[('classifier',\n",
       "                                        RandomForestClassifier())]),\n",
       "             param_grid={'classifier': [RandomForestClassifier(max_depth=2,\n",
       "                                                               random_state=42)],\n",
       "                         'classifier__max_depth': [2, 3, 5],\n",
       "                         'classifier__n_estimators': [10, 50, 100, 150]},\n",
       "             return_train_score=True)"
      ]
     },
     "execution_count": 49,
     "metadata": {},
     "output_type": "execute_result"
    }
   ],
   "source": [
    "grid_RFC = GridSearchCV(pipe_RFC, param_grid_RFC, cv=5, return_train_score=True)\n",
    "grid_RFC.fit(X_train, y_train)"
   ]
  },
  {
   "cell_type": "code",
   "execution_count": 50,
   "metadata": {},
   "outputs": [
    {
     "name": "stdout",
     "output_type": "stream",
     "text": [
      "Random Forest Classifier :\n",
      "Best parameters:\n",
      "{'classifier': RandomForestClassifier(max_depth=2, random_state=42), 'classifier__max_depth': 2, 'classifier__n_estimators': 100}\n",
      "\n",
      "Best CV train score: 0.95\n",
      "Best CV validation score: 0.93\n",
      "Test set score: 0.85\n"
     ]
    }
   ],
   "source": [
    "print(\"Random Forest Classifier :\")\n",
    "print(\"Best parameters:\\n{}\\n\".format(grid_RFC.best_params_))\n",
    "print(\"Best CV train score: {:.2f}\".format(grid_RFC.cv_results_['mean_train_score'][grid_RFC.best_index_]))\n",
    "print(\"Best CV validation score: {:.2f}\".format(grid_RFC.best_score_))\n",
    "print(\"Test set score: {:.2f}\".format(grid_RFC.score(X_test, y_test)))"
   ]
  },
  {
   "cell_type": "code",
   "execution_count": 51,
   "metadata": {},
   "outputs": [],
   "source": [
    "pipe_GBC = Pipeline([('classifier',GradientBoostingClassifier())])"
   ]
  },
  {
   "cell_type": "code",
   "execution_count": 52,
   "metadata": {},
   "outputs": [
    {
     "data": {
      "text/html": [
       "<style>#sk-container-id-4 {color: black;}#sk-container-id-4 pre{padding: 0;}#sk-container-id-4 div.sk-toggleable {background-color: white;}#sk-container-id-4 label.sk-toggleable__label {cursor: pointer;display: block;width: 100%;margin-bottom: 0;padding: 0.3em;box-sizing: border-box;text-align: center;}#sk-container-id-4 label.sk-toggleable__label-arrow:before {content: \"▸\";float: left;margin-right: 0.25em;color: #696969;}#sk-container-id-4 label.sk-toggleable__label-arrow:hover:before {color: black;}#sk-container-id-4 div.sk-estimator:hover label.sk-toggleable__label-arrow:before {color: black;}#sk-container-id-4 div.sk-toggleable__content {max-height: 0;max-width: 0;overflow: hidden;text-align: left;background-color: #f0f8ff;}#sk-container-id-4 div.sk-toggleable__content pre {margin: 0.2em;color: black;border-radius: 0.25em;background-color: #f0f8ff;}#sk-container-id-4 input.sk-toggleable__control:checked~div.sk-toggleable__content {max-height: 200px;max-width: 100%;overflow: auto;}#sk-container-id-4 input.sk-toggleable__control:checked~label.sk-toggleable__label-arrow:before {content: \"▾\";}#sk-container-id-4 div.sk-estimator input.sk-toggleable__control:checked~label.sk-toggleable__label {background-color: #d4ebff;}#sk-container-id-4 div.sk-label input.sk-toggleable__control:checked~label.sk-toggleable__label {background-color: #d4ebff;}#sk-container-id-4 input.sk-hidden--visually {border: 0;clip: rect(1px 1px 1px 1px);clip: rect(1px, 1px, 1px, 1px);height: 1px;margin: -1px;overflow: hidden;padding: 0;position: absolute;width: 1px;}#sk-container-id-4 div.sk-estimator {font-family: monospace;background-color: #f0f8ff;border: 1px dotted black;border-radius: 0.25em;box-sizing: border-box;margin-bottom: 0.5em;}#sk-container-id-4 div.sk-estimator:hover {background-color: #d4ebff;}#sk-container-id-4 div.sk-parallel-item::after {content: \"\";width: 100%;border-bottom: 1px solid gray;flex-grow: 1;}#sk-container-id-4 div.sk-label:hover label.sk-toggleable__label {background-color: #d4ebff;}#sk-container-id-4 div.sk-serial::before {content: \"\";position: absolute;border-left: 1px solid gray;box-sizing: border-box;top: 0;bottom: 0;left: 50%;z-index: 0;}#sk-container-id-4 div.sk-serial {display: flex;flex-direction: column;align-items: center;background-color: white;padding-right: 0.2em;padding-left: 0.2em;position: relative;}#sk-container-id-4 div.sk-item {position: relative;z-index: 1;}#sk-container-id-4 div.sk-parallel {display: flex;align-items: stretch;justify-content: center;background-color: white;position: relative;}#sk-container-id-4 div.sk-item::before, #sk-container-id-4 div.sk-parallel-item::before {content: \"\";position: absolute;border-left: 1px solid gray;box-sizing: border-box;top: 0;bottom: 0;left: 50%;z-index: -1;}#sk-container-id-4 div.sk-parallel-item {display: flex;flex-direction: column;z-index: 1;position: relative;background-color: white;}#sk-container-id-4 div.sk-parallel-item:first-child::after {align-self: flex-end;width: 50%;}#sk-container-id-4 div.sk-parallel-item:last-child::after {align-self: flex-start;width: 50%;}#sk-container-id-4 div.sk-parallel-item:only-child::after {width: 0;}#sk-container-id-4 div.sk-dashed-wrapped {border: 1px dashed gray;margin: 0 0.4em 0.5em 0.4em;box-sizing: border-box;padding-bottom: 0.4em;background-color: white;}#sk-container-id-4 div.sk-label label {font-family: monospace;font-weight: bold;display: inline-block;line-height: 1.2em;}#sk-container-id-4 div.sk-label-container {text-align: center;}#sk-container-id-4 div.sk-container {/* jupyter's `normalize.less` sets `[hidden] { display: none; }` but bootstrap.min.css set `[hidden] { display: none !important; }` so we also need the `!important` here to be able to override the default hidden behavior on the sphinx rendered scikit-learn.org. See: https://github.com/scikit-learn/scikit-learn/issues/21755 */display: inline-block !important;position: relative;}#sk-container-id-4 div.sk-text-repr-fallback {display: none;}</style><div id=\"sk-container-id-4\" class=\"sk-top-container\"><div class=\"sk-text-repr-fallback\"><pre>GridSearchCV(cv=5,\n",
       "             estimator=Pipeline(steps=[(&#x27;classifier&#x27;,\n",
       "                                        GradientBoostingClassifier())]),\n",
       "             param_grid={&#x27;classifier&#x27;: [GradientBoostingClassifier(max_depth=5,\n",
       "                                                                   n_estimators=50,\n",
       "                                                                   random_state=42)],\n",
       "                         &#x27;classifier__learning_rate&#x27;: [0.01, 0.1, 0.5, 1.0],\n",
       "                         &#x27;classifier__max_depth&#x27;: [2, 3, 5],\n",
       "                         &#x27;classifier__n_estimators&#x27;: [10, 50, 100, 150]},\n",
       "             return_train_score=True)</pre><b>In a Jupyter environment, please rerun this cell to show the HTML representation or trust the notebook. <br />On GitHub, the HTML representation is unable to render, please try loading this page with nbviewer.org.</b></div><div class=\"sk-container\" hidden><div class=\"sk-item sk-dashed-wrapped\"><div class=\"sk-label-container\"><div class=\"sk-label sk-toggleable\"><input class=\"sk-toggleable__control sk-hidden--visually\" id=\"sk-estimator-id-10\" type=\"checkbox\" ><label for=\"sk-estimator-id-10\" class=\"sk-toggleable__label sk-toggleable__label-arrow\">GridSearchCV</label><div class=\"sk-toggleable__content\"><pre>GridSearchCV(cv=5,\n",
       "             estimator=Pipeline(steps=[(&#x27;classifier&#x27;,\n",
       "                                        GradientBoostingClassifier())]),\n",
       "             param_grid={&#x27;classifier&#x27;: [GradientBoostingClassifier(max_depth=5,\n",
       "                                                                   n_estimators=50,\n",
       "                                                                   random_state=42)],\n",
       "                         &#x27;classifier__learning_rate&#x27;: [0.01, 0.1, 0.5, 1.0],\n",
       "                         &#x27;classifier__max_depth&#x27;: [2, 3, 5],\n",
       "                         &#x27;classifier__n_estimators&#x27;: [10, 50, 100, 150]},\n",
       "             return_train_score=True)</pre></div></div></div><div class=\"sk-parallel\"><div class=\"sk-parallel-item\"><div class=\"sk-item\"><div class=\"sk-label-container\"><div class=\"sk-label sk-toggleable\"><input class=\"sk-toggleable__control sk-hidden--visually\" id=\"sk-estimator-id-11\" type=\"checkbox\" ><label for=\"sk-estimator-id-11\" class=\"sk-toggleable__label sk-toggleable__label-arrow\">estimator: Pipeline</label><div class=\"sk-toggleable__content\"><pre>Pipeline(steps=[(&#x27;classifier&#x27;, GradientBoostingClassifier())])</pre></div></div></div><div class=\"sk-serial\"><div class=\"sk-item\"><div class=\"sk-serial\"><div class=\"sk-item\"><div class=\"sk-estimator sk-toggleable\"><input class=\"sk-toggleable__control sk-hidden--visually\" id=\"sk-estimator-id-12\" type=\"checkbox\" ><label for=\"sk-estimator-id-12\" class=\"sk-toggleable__label sk-toggleable__label-arrow\">GradientBoostingClassifier</label><div class=\"sk-toggleable__content\"><pre>GradientBoostingClassifier()</pre></div></div></div></div></div></div></div></div></div></div></div></div>"
      ],
      "text/plain": [
       "GridSearchCV(cv=5,\n",
       "             estimator=Pipeline(steps=[('classifier',\n",
       "                                        GradientBoostingClassifier())]),\n",
       "             param_grid={'classifier': [GradientBoostingClassifier(max_depth=5,\n",
       "                                                                   n_estimators=50,\n",
       "                                                                   random_state=42)],\n",
       "                         'classifier__learning_rate': [0.01, 0.1, 0.5, 1.0],\n",
       "                         'classifier__max_depth': [2, 3, 5],\n",
       "                         'classifier__n_estimators': [10, 50, 100, 150]},\n",
       "             return_train_score=True)"
      ]
     },
     "execution_count": 52,
     "metadata": {},
     "output_type": "execute_result"
    }
   ],
   "source": [
    "grid_GBC = GridSearchCV(pipe_GBC, param_grid_GBC, cv=5, return_train_score=True)\n",
    "grid_GBC.fit(X_train, y_train)"
   ]
  },
  {
   "cell_type": "code",
   "execution_count": 53,
   "metadata": {},
   "outputs": [
    {
     "name": "stdout",
     "output_type": "stream",
     "text": [
      "Gradient Boost Classifier :\n",
      "Best params:\n",
      "{'classifier': GradientBoostingClassifier(max_depth=5, n_estimators=50, random_state=42), 'classifier__learning_rate': 0.1, 'classifier__max_depth': 5, 'classifier__n_estimators': 50}\n",
      "\n",
      "Best cross-validation train score: 1.000000\n",
      "Best cross-validation validation score: 0.950150\n",
      "Test-set score: 0.833333\n"
     ]
    }
   ],
   "source": [
    "print(\"Gradient Boost Classifier :\")\n",
    "print(\"Best params:\\n{}\\n\".format(grid_GBC.best_params_))\n",
    "print(\"Best cross-validation train score: {:.6f}\".format(grid_GBC.cv_results_['mean_train_score'][grid_GBC.best_index_]))\n",
    "print(\"Best cross-validation validation score: {:.6f}\".format(grid_GBC.best_score_))\n",
    "print(\"Test-set score: {:.6f}\".format(grid_GBC.score(X_test, y_test)))"
   ]
  },
  {
   "cell_type": "code",
   "execution_count": 54,
   "metadata": {},
   "outputs": [],
   "source": [
    "df2 = pd.read_csv('data/testing.csv')"
   ]
  },
  {
   "cell_type": "code",
   "execution_count": 55,
   "metadata": {},
   "outputs": [],
   "source": [
    "y2 = df2['motion_state'].copy()\n",
    "X2 = df2[[col for col in df.columns if col !='motion_state']].copy()"
   ]
  },
  {
   "cell_type": "code",
   "execution_count": 56,
   "metadata": {},
   "outputs": [
    {
     "name": "stdout",
     "output_type": "stream",
     "text": [
      "Test-set score RandomForest : 0.960000\n",
      "Test-set score GradientBoost : 0.900000\n"
     ]
    }
   ],
   "source": [
    "print(\"Test-set score RandomForest : {:.6f}\".format(grid_RFC.score(X2, y2)))\n",
    "print(\"Test-set score GradientBoost : {:.6f}\".format(grid_GBC.score(X2, y2)))"
   ]
  },
  {
   "cell_type": "code",
   "execution_count": 57,
   "metadata": {},
   "outputs": [
    {
     "data": {
      "text/plain": [
       "array(['rest', 'turn', 'straight'], dtype=object)"
      ]
     },
     "execution_count": 57,
     "metadata": {},
     "output_type": "execute_result"
    }
   ],
   "source": [
    "df['motion_state'].unique()"
   ]
  },
  {
   "cell_type": "code",
   "execution_count": 58,
   "metadata": {},
   "outputs": [],
   "source": [
    "grid_RFC.fit(X_train, y_train)\n",
    "pred_val = grid_RFC.predict(X_test)"
   ]
  },
  {
   "cell_type": "code",
   "execution_count": 59,
   "metadata": {},
   "outputs": [],
   "source": [
    "grid_GBC.fit(X_train, y_train)\n",
    "pred_val_GBC = grid_GBC.predict(X_test)"
   ]
  },
  {
   "cell_type": "code",
   "execution_count": 62,
   "metadata": {},
   "outputs": [
    {
     "data": {
      "image/png": "[encoded data removed]",
      "text/plain": [
       "<Figure size 640x480 with 1 Axes>"
      ]
     },
     "metadata": {},
     "output_type": "display_data"
    },
    {
     "name": "stdout",
     "output_type": "stream",
     "text": [
      "\n",
      "Classification Report for Random Forest Classifier:\n",
      "              precision    recall  f1-score   support\n",
      "\n",
      "        rest       0.94      0.97      0.96        34\n",
      "    straight       0.74      0.89      0.81        28\n",
      "        turn       0.89      0.50      0.64        16\n",
      "\n",
      "    accuracy                           0.85        78\n",
      "   macro avg       0.86      0.79      0.80        78\n",
      "weighted avg       0.86      0.85      0.84        78\n",
      "\n",
      "\n",
      "Accuracy Score: 0.8461538461538461\n",
      "Precision Score: 0.8556800497976967\n",
      "Recall Score: 0.7878151260504201\n",
      "F1 Score: 0.8009911173445535\n"
     ]
    },
    {
     "data": {
      "image/png": "[encoded data removed]",
      "text/plain": [
       "<Figure size 640x480 with 1 Axes>"
      ]
     },
     "metadata": {},
     "output_type": "display_data"
    },
    {
     "name": "stdout",
     "output_type": "stream",
     "text": [
      "\n",
      "Classification Report for Gradient Boost Classifier:\n",
      "              precision    recall  f1-score   support\n",
      "\n",
      "        rest       0.94      0.97      0.96        34\n",
      "    straight       0.74      0.89      0.81        28\n",
      "        turn       0.89      0.50      0.64        16\n",
      "\n",
      "    accuracy                           0.85        78\n",
      "   macro avg       0.86      0.79      0.80        78\n",
      "weighted avg       0.86      0.85      0.84        78\n",
      "\n",
      "\n",
      "Accuracy Score: 0.8461538461538461\n",
      "Precision Score: 0.8556800497976967\n",
      "Recall Score: 0.7878151260504201\n",
      "F1 Score: 0.8009911173445535\n"
     ]
    }
   ],
   "source": [
    "from sklearn.metrics import confusion_matrix, accuracy_score, precision_score, recall_score, f1_score, classification_report\n",
    "import seaborn as sns\n",
    "import matplotlib.pyplot as plt\n",
    "\n",
    "def evaluate_classification(true_values, predicted_values, ticklabels, model):\n",
    "    # Calculate confusion matrix\n",
    "    confusion_mat = confusion_matrix(true_values, predicted_values)\n",
    "    \n",
    "    # Plot heatmap\n",
    "    sns.heatmap(confusion_mat, xticklabels=ticklabels, yticklabels=ticklabels, annot=True, fmt='d', cbar=False, cmap='viridis')\n",
    "    plt.xlabel('Predicted values')\n",
    "    plt.ylabel('True values')\n",
    "    plt.title('Confusion Matrix - ' + model)\n",
    "    plt.show()\n",
    "\n",
    "    # Calculate scores\n",
    "    accuracy = accuracy_score(true_values, predicted_values)\n",
    "    precision = precision_score(true_values, predicted_values, average='macro')\n",
    "    recall = recall_score(true_values, predicted_values, average='macro')\n",
    "    f1 = f1_score(true_values, predicted_values, average='macro')\n",
    "\n",
    "    '''# Calculate additional metrics\n",
    "    tn, fp, fn, tp = confusion_mat.ravel()\n",
    "\n",
    "    # Print additional metrics\n",
    "    print(\"Metrics for\", model)\n",
    "    print(\"True Negatives:\", tn)\n",
    "    print(\"False Positives:\", fp)\n",
    "    print(\"False Negatives:\", fn)\n",
    "    print(\"True Positives:\", tp)'''\n",
    "\n",
    "    # Print classification report\n",
    "    print(\"\\nClassification Report for\", model + \":\")\n",
    "    print(classification_report(true_values, predicted_values))\n",
    "\n",
    "    # Print scores\n",
    "    print(\"\\nAccuracy Score:\", accuracy)\n",
    "    print(\"Precision Score:\", precision)\n",
    "    print(\"Recall Score:\", recall)\n",
    "    print(\"F1 Score:\", f1)\n",
    "    \n",
    "\n",
    "evaluate_classification(y_test, pred_val, ['rest', 'turn', 'straight'], 'Random Forest Classifier')\n",
    "evaluate_classification(y_test, pred_val, ['rest', 'turn', 'straight'], 'Gradient Boost Classifier')\n",
    "\n"
   ]
  }
 ],
 "metadata": {
  "kernelspec": {
   "display_name": "proj682_env",
   "language": "python",
   "name": "python3"
  },
  "language_info": {
   "codemirror_mode": {
    "name": "ipython",
    "version": 3
   },
   "file_extension": ".py",
   "mimetype": "text/x-python",
   "name": "python",
   "nbconvert_exporter": "python",
   "pygments_lexer": "ipython3",
   "version": "3.12.2"
  }
 },
 "nbformat": 4,
 "nbformat_minor": 2
}
